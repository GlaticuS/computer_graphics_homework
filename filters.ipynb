{
 "cells": [
  {
   "cell_type": "code",
   "execution_count": 1,
   "metadata": {
    "collapsed": true
   },
   "outputs": [],
   "source": [
    "import numpy as np\n",
    "import cv2"
   ]
  },
  {
   "cell_type": "code",
   "execution_count": 14,
   "metadata": {},
   "outputs": [
    {
     "data": {
      "text/plain": [
       "True"
      ]
     },
     "execution_count": 14,
     "metadata": {},
     "output_type": "execute_result"
    }
   ],
   "source": [
    "img = cv2.imread('salt_pepper.png',1)\n",
    "#img_new = corr_linear(img)\n",
    "#img_new = bw(img)\n",
    "#img_new = invert(img)\n",
    "#img_new = box(img, 30)\n",
    "#img_new = crop(img, 10, 10, 220, 120)\n",
    "#img_new = corr_nonlinear(img, 1/2.2)\n",
    "#img_new = wb_gw(img)\n",
    "#img_new = wb_linear(img)\n",
    "#img_new = gauss(img, 5)\n",
    "img_new = median(img, 4)\n",
    "cv2.imwrite('out.png',img_new)"
   ]
  },
  {
   "cell_type": "code",
   "execution_count": 2,
   "metadata": {
    "collapsed": true
   },
   "outputs": [],
   "source": [
    "def corr_linear(img):\n",
    "    R, G, B = cv2.split(img)\n",
    "    img_max = np.max(img)\n",
    "    img_min = np.min(img)\n",
    "    R_new = (R - img_min)*255.0/(img_max - img_min)\n",
    "    G_new = (G - img_min)*255.0/(img_max - img_min)\n",
    "    B_new = (B - img_min)*255.0/(img_max - img_min)\n",
    "    R_new = R_new.astype(np.uint8)\n",
    "    G_new = G_new.astype(np.uint8)\n",
    "    B_new = B_new.astype(np.uint8)\n",
    "    img_new = cv2.merge((R_new, G_new, B_new))\n",
    "    return img_new"
   ]
  },
  {
   "cell_type": "code",
   "execution_count": 3,
   "metadata": {
    "collapsed": true
   },
   "outputs": [],
   "source": [
    "def bw(img):\n",
    "    bw_matrix = np.array([[0.2125, 0.7154, 0.0721], [0.2125, 0.7154, 0.0721], [0.2125, 0.7154, 0.0721]])\n",
    "    print bw_matrix\n",
    "    rows = img.shape[0] \n",
    "    cols = img.shape[1]\n",
    "    for i in range(rows):\n",
    "        for j in range(cols):\n",
    "            img[i,j] = bw_matrix.dot(img[i,j])\n",
    "    img = img.astype(np.uint8)\n",
    "    return img"
   ]
  },
  {
   "cell_type": "code",
   "execution_count": 4,
   "metadata": {
    "collapsed": true
   },
   "outputs": [],
   "source": [
    "def invert(img):\n",
    "    bw_matrix = np.array([[-1, 0, 0], [0, -1, 0], [0, 0, -1]])\n",
    "    rows = img.shape[0] \n",
    "    cols = img.shape[1]\n",
    "    for i in range(rows):\n",
    "        for j in range(cols):\n",
    "            img[i,j] = bw_matrix.dot(img[i,j])\n",
    "    img = img.astype(np.uint8)\n",
    "    return img"
   ]
  },
  {
   "cell_type": "code",
   "execution_count": 5,
   "metadata": {},
   "outputs": [],
   "source": [
    "def box(img, size):\n",
    "    box_matrix = np.ones((size, size))/(size**2)\n",
    "    rows = img.shape[0] \n",
    "    cols = img.shape[1]\n",
    "    img = cv2.copyMakeBorder(img,size/2,size/2,size/2,size/2,cv2.BORDER_REPLICATE)\n",
    "    for i in range(rows):\n",
    "        for j in range(cols):\n",
    "            img[i,j] = np.dot(box_matrix,img[i:i+size,j]).sum(axis=0)\n",
    "    img = img.astype(np.uint8)\n",
    "    crop_img = img[size/2:rows, size/2:cols]\n",
    "    return crop_img"
   ]
  },
  {
   "cell_type": "code",
   "execution_count": 6,
   "metadata": {
    "collapsed": true
   },
   "outputs": [],
   "source": [
    "def crop(img, x, y, width, height):\n",
    "    crop_img = img[y:y+height, x:x+width]\n",
    "    return crop_img"
   ]
  },
  {
   "cell_type": "code",
   "execution_count": 7,
   "metadata": {},
   "outputs": [],
   "source": [
    "def corr_nonlinear(img, gamma):\n",
    "    img = cv2.normalize(img, img, alpha=0, beta=1, norm_type=cv2.NORM_MINMAX, dtype=cv2.CV_32F)\n",
    "    img_new = img**float(gamma)\n",
    "    return img_new"
   ]
  },
  {
   "cell_type": "code",
   "execution_count": 8,
   "metadata": {
    "collapsed": true
   },
   "outputs": [],
   "source": [
    "def wb_gw(img):\n",
    "    R, G, B = cv2.split(img)\n",
    "    avg = (R.mean()+G.mean()+B.mean())/3.\n",
    "    R_new = np.clip(R * avg/R.mean(), 0, 255)\n",
    "    G_new = np.clip(G * avg/G.mean(), 0, 255)\n",
    "    B_new = np.clip(B * avg/B.mean(), 0, 255)\n",
    "    R_new = R_new.astype(np.uint8)\n",
    "    G_new = G_new.astype(np.uint8)\n",
    "    B_new = B_new.astype(np.uint8)\n",
    "    img_new = cv2.merge((R_new, G_new, B_new))\n",
    "    return img_new"
   ]
  },
  {
   "cell_type": "code",
   "execution_count": 9,
   "metadata": {
    "collapsed": true
   },
   "outputs": [],
   "source": [
    "def wb_linear(img):\n",
    "    R, G, B = cv2.split(img)\n",
    "    print R\n",
    "    R_new, G_new, B_new = map(lambda x: (x - np.min(x))*255.0/(np.max(x) - np.min(x)), (R, G, B))\n",
    "    R_new, G_new, B_new = map(lambda x: x.astype(np.uint8), (R_new, G_new, B_new))\n",
    "    print R_new\n",
    "    img_new = cv2.merge((R_new, G_new, B_new))\n",
    "    return img_new"
   ]
  },
  {
   "cell_type": "code",
   "execution_count": 10,
   "metadata": {
    "collapsed": true
   },
   "outputs": [],
   "source": [
    "def gauss(img,sigma):\n",
    "    kernel = gauss_function(sigma)\n",
    "    size = sigma * 3\n",
    "    rows = img.shape[0] \n",
    "    cols = img.shape[1]\n",
    "    img = cv2.copyMakeBorder(img,size/2,size/2,size/2,size/2,cv2.BORDER_REPLICATE)\n",
    "    for i in range(rows):\n",
    "        for j in range(cols):\n",
    "            img[i,j] = np.dot(kernel,img[i:i+size,j]).sum(axis=0)\n",
    "    img = img.astype(np.uint8)\n",
    "    crop_img = img[size/2:rows, size/2:cols]\n",
    "    return crop_img"
   ]
  },
  {
   "cell_type": "code",
   "execution_count": 11,
   "metadata": {},
   "outputs": [],
   "source": [
    "def gauss_function(sigma):\n",
    "    x = np.arange(-sigma*3 / 2 + 1., sigma*3 / 2 + 1.)\n",
    "    xx, yy = np.meshgrid(x, x)\n",
    "    kernel = 1./(2.*np.pi*sigma**2) * np.exp(-(xx*xx + yy*yy)/(2.*sigma**2))\n",
    "    return kernel"
   ]
  },
  {
   "cell_type": "code",
   "execution_count": 12,
   "metadata": {
    "collapsed": true
   },
   "outputs": [],
   "source": [
    "def median(img, size):\n",
    "    rows = img.shape[0] \n",
    "    cols = img.shape[1]\n",
    "    img = cv2.copyMakeBorder(img,size/2,size/2,size/2,size/2,cv2.BORDER_REPLICATE)\n",
    "    for i in range(rows):\n",
    "        for j in range(cols):\n",
    "            img[i,j] = np.median(img[i:i+size, j:j+size]).sum()\n",
    "    img = img.astype(np.uint8)\n",
    "    crop_img = img[size/2:rows, size/2:cols]\n",
    "    return crop_img"
   ]
  },
  {
   "cell_type": "code",
   "execution_count": null,
   "metadata": {
    "collapsed": true
   },
   "outputs": [],
   "source": []
  }
 ],
 "metadata": {
  "kernelspec": {
   "display_name": "Python 2",
   "language": "python",
   "name": "python2"
  },
  "language_info": {
   "codemirror_mode": {
    "name": "ipython",
    "version": 2
   },
   "file_extension": ".py",
   "mimetype": "text/x-python",
   "name": "python",
   "nbconvert_exporter": "python",
   "pygments_lexer": "ipython2",
   "version": "2.7.13"
  }
 },
 "nbformat": 4,
 "nbformat_minor": 2
}
