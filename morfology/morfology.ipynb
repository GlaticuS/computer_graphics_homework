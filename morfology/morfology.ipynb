{
 "cells": [
  {
   "cell_type": "code",
   "execution_count": 2,
   "metadata": {
    "collapsed": true
   },
   "outputs": [],
   "source": [
    "import cv2\n",
    "import numpy as np"
   ]
  },
  {
   "cell_type": "code",
   "execution_count": 287,
   "metadata": {},
   "outputs": [],
   "source": [
    "img = cv2.imread('3.png', 0)\n",
    "ret,th1 = cv2.threshold(img,127,255,cv2.THRESH_BINARY)\n",
    "th1 = th1/255\n",
    "img_new1 = myDilate(th1, 11);\n",
    "cv2.imshow('image',img_new1)\n",
    "cv2.waitKey(0)\n",
    "cv2.destroyAllWindows()\n",
    "img = cv2.imread('3.png', 0)\n",
    "ret,th1 = cv2.threshold(img,127,255,cv2.THRESH_BINARY)\n",
    "img_new2 = myErode(th1, 11);\n",
    "cv2.imshow('image',img_new2)\n",
    "cv2.waitKey(0)\n",
    "cv2.destroyAllWindows()"
   ]
  },
  {
   "cell_type": "code",
   "execution_count": 279,
   "metadata": {
    "collapsed": true
   },
   "outputs": [],
   "source": [
    "def myDilate(img, kernel_size):\n",
    "    kernel = np.ones((kernel_size,kernel_size))\n",
    "    rows = img.shape[0]\n",
    "    cols = img.shape[1]\n",
    "    for i in range(rows-kernel_size):\n",
    "        for j in range(cols-kernel_size):\n",
    "            if img[i,j] == 0:\n",
    "                img[i,j] = (kernel* img[i:i+kernel_size,j:j+kernel_size]).sum()\n",
    "    img*=255\n",
    "    ret,th1 = cv2.threshold(img,127,255,cv2.THRESH_BINARY)\n",
    "    return th1"
   ]
  },
  {
   "cell_type": "code",
   "execution_count": 285,
   "metadata": {},
   "outputs": [],
   "source": [
    "def myErode(img, kernel_size):\n",
    "    kernel = np.ones((kernel_size,kernel_size))/(kernel_size*2 + (kernel_size-2)*2)\n",
    "    kernel[1:kernel_size-1, 1:kernel_size-1] = 0\n",
    "    rows = img.shape[0]\n",
    "    cols = img.shape[1]\n",
    "    for i in range(rows-kernel_size):\n",
    "        for j in range(cols-kernel_size):\n",
    "            if img[i,j] == 255:\n",
    "                img[i,j] = (kernel* img[i:i+kernel_size,j:j+kernel_size]).sum()\n",
    "    ret,th1 = cv2.threshold(img,127,255,cv2.THRESH_BINARY)\n",
    "    return th1"
   ]
  },
  {
   "cell_type": "code",
   "execution_count": null,
   "metadata": {
    "collapsed": true
   },
   "outputs": [],
   "source": []
  }
 ],
 "metadata": {
  "kernelspec": {
   "display_name": "Python 2",
   "language": "python",
   "name": "python2"
  },
  "language_info": {
   "codemirror_mode": {
    "name": "ipython",
    "version": 2
   },
   "file_extension": ".py",
   "mimetype": "text/x-python",
   "name": "python",
   "nbconvert_exporter": "python",
   "pygments_lexer": "ipython2",
   "version": "2.7.13"
  }
 },
 "nbformat": 4,
 "nbformat_minor": 2
}
