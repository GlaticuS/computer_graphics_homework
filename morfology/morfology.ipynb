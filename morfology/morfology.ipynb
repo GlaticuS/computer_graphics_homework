{
 "cells": [
  {
   "cell_type": "code",
   "execution_count": 2,
   "metadata": {},
   "outputs": [],
   "source": [
    "import cv2\n",
    "import numpy as np\n",
    "from scipy.ndimage import binary_dilation, binary_erosion"
   ]
  },
  {
   "cell_type": "code",
   "execution_count": 59,
   "metadata": {},
   "outputs": [
    {
     "name": "stdout",
     "output_type": "stream",
     "text": [
      "Dilation compare: 0\n",
      "Erosion compare: 0\n"
     ]
    }
   ],
   "source": [
    "img = cv2.imread('12.jpg', 0)\n",
    "ret,th1 = cv2.threshold(img,127,255,cv2.THRESH_BINARY)\n",
    "th1 = th1/255\n",
    "th2 = th1\n",
    "kernel_size = 5\n",
    "kernel = np.ones((kernel_size, kernel_size))\n",
    "\n",
    "img_new1 = myDilate(th1, kernel);\n",
    "img_new2 = binary_dilation(th2, structure=kernel).astype(th2.dtype)\n",
    "img_new2 = img_new2*255\n",
    "print \"Dilation compare:\", ((img_new1-img_new2*1)**2).sum()\n",
    "cv2.imshow('image1',img_new1)\n",
    "cv2.imshow('image2',img_new2)\n",
    "\n",
    "img_new3 = myErode(th1, kernel);\n",
    "img_new4 = binary_erosion(th2, structure=kernel).astype(th2.dtype)\n",
    "img_new4 = img_new4*255\n",
    "print \"Erosion compare:\", ((img_new3-img_new4*1)**2).sum()\n",
    "cv2.imshow('image3',img_new3)\n",
    "cv2.imshow('image4',img_new4)\n",
    "cv2.waitKey(0)\n",
    "cv2.destroyAllWindows()"
   ]
  },
  {
   "cell_type": "code",
   "execution_count": 54,
   "metadata": {},
   "outputs": [],
   "source": [
    "def myDilate(img, kernel):\n",
    "    size = kernel.shape[0]\n",
    "    rows = img.shape[0]\n",
    "    cols = img.shape[1]\n",
    "    img_border = cv2.copyMakeBorder(img,size,size,size,size,cv2.BORDER_REFLECT)\n",
    "    new_img = np.zeros((img_border.shape[0], img_border.shape[1]))\n",
    "    for i in range(rows):\n",
    "        for j in range(cols):\n",
    "            if img_border[i+size/2,j+size/2] == 1:\n",
    "                new_img[i:i+size,j:j+size] = (np.logical_or(img_border[i:i+size, j:j+size], kernel))\n",
    "    new_img*=255\n",
    "    new_img = new_img.astype(np.uint8)\n",
    "    new_crop_img = new_img[size:rows+size,size:cols+size]\n",
    "    ret,th = cv2.threshold(new_crop_img,127,255,cv2.THRESH_BINARY)\n",
    "    return th"
   ]
  },
  {
   "cell_type": "code",
   "execution_count": 56,
   "metadata": {},
   "outputs": [],
   "source": [
    "def myErode(img, kernel):\n",
    "    size = kernel.shape[0]\n",
    "    rows = img.shape[0]\n",
    "    cols = img.shape[1]\n",
    "    img_border = cv2.copyMakeBorder(img,size,size,size,size,cv2.BORDER_REFLECT)\n",
    "    new_img = np.zeros((img_border.shape[0], img_border.shape[1]))\n",
    "    for i in range(rows):\n",
    "        for j in range(cols):\n",
    "            if np.array_equal(img_border[i:i+size,j:j+size],kernel):\n",
    "                new_img[i+size/2,j+size/2] = np.logical_and(img_border[i, j], 1)\n",
    "    new_img*=255\n",
    "    new_img = new_img.astype(np.uint8)\n",
    "    new_crop_img = new_img[size:rows+size,size:cols+size]\n",
    "    ret,th = cv2.threshold(new_crop_img,127,255,cv2.THRESH_BINARY)\n",
    "    return th"
   ]
  },
  {
   "cell_type": "code",
   "execution_count": null,
   "metadata": {
    "collapsed": true
   },
   "outputs": [],
   "source": []
  }
 ],
 "metadata": {
  "kernelspec": {
   "display_name": "Python 2",
   "language": "python",
   "name": "python2"
  },
  "language_info": {
   "codemirror_mode": {
    "name": "ipython",
    "version": 2
   },
   "file_extension": ".py",
   "mimetype": "text/x-python",
   "name": "python",
   "nbconvert_exporter": "python",
   "pygments_lexer": "ipython2",
   "version": "2.7.13"
  }
 },
 "nbformat": 4,
 "nbformat_minor": 2
}
